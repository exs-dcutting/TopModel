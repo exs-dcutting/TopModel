{
 "cells": [
  {
   "cell_type": "code",
   "execution_count": 1,
   "id": "1fde44cf-8250-4a1b-a8e8-92b9c7a3a1e0",
   "metadata": {},
   "outputs": [],
   "source": [
    "from Bio.PDB.PDBParser import PDBParser"
   ]
  },
  {
   "cell_type": "code",
   "execution_count": 2,
   "id": "408489c8-cd92-4d01-a69e-ff8a70f3d590",
   "metadata": {},
   "outputs": [],
   "source": [
    "parser = PDBParser()"
   ]
  },
  {
   "cell_type": "code",
   "execution_count": 3,
   "id": "853d9aff-f013-4804-951f-96488b88be08",
   "metadata": {},
   "outputs": [
    {
     "name": "stderr",
     "output_type": "stream",
     "text": [
      "/Users/janik/.conda/envs/py/lib/python3.10/site-packages/Bio/PDB/PDBParser.py:395: PDBConstructionWarning: Ignoring unrecognized record 'END' at line 22\n",
      "  warnings.warn(\n"
     ]
    }
   ],
   "source": [
    "struc = parser.get_structure(\"1\", \"./data/alanine_dipeptide/1.pdb\")"
   ]
  },
  {
   "cell_type": "code",
   "execution_count": 6,
   "id": "ab97576c-ae4d-40e6-a326-7557abbf98d8",
   "metadata": {},
   "outputs": [
    {
     "data": {
      "text/plain": [
       "[<Residue ALA het=  resseq=1 icode= >, <Residue ALA het=  resseq=2 icode= >]"
      ]
     },
     "execution_count": 6,
     "metadata": {},
     "output_type": "execute_result"
    }
   ],
   "source": [
    "residues = list(struc.get_residues())\n",
    "residues"
   ]
  },
  {
   "cell_type": "code",
   "execution_count": 7,
   "id": "391916ca-bf28-45fa-84c8-b4e604552c80",
   "metadata": {},
   "outputs": [],
   "source": [
    "res = residues[0]"
   ]
  },
  {
   "cell_type": "code",
   "execution_count": 8,
   "id": "b7809106-70d9-4ee2-b848-9272d8c66887",
   "metadata": {},
   "outputs": [
    {
     "data": {
      "text/plain": [
       "<Residue ALA het=  resseq=1 icode= >"
      ]
     },
     "execution_count": 8,
     "metadata": {},
     "output_type": "execute_result"
    }
   ],
   "source": [
    "res"
   ]
  },
  {
   "cell_type": "code",
   "execution_count": 11,
   "id": "f52f0a30-8b1e-479d-91e5-371eef4a44af",
   "metadata": {},
   "outputs": [],
   "source": [
    "atoms = list(res.get_atoms())"
   ]
  },
  {
   "cell_type": "code",
   "execution_count": 13,
   "id": "c757dd2f-eaf2-441c-aba6-c34d2920133a",
   "metadata": {},
   "outputs": [
    {
     "data": {
      "text/plain": [
       "[<Atom N>,\n",
       " <Atom CA>,\n",
       " <Atom C>,\n",
       " <Atom O>,\n",
       " <Atom CB>,\n",
       " <Atom H>,\n",
       " <Atom HA>,\n",
       " <Atom 1HB>,\n",
       " <Atom 2HB>,\n",
       " <Atom 3HB>]"
      ]
     },
     "execution_count": 13,
     "metadata": {},
     "output_type": "execute_result"
    }
   ],
   "source": [
    "atoms"
   ]
  },
  {
   "cell_type": "code",
   "execution_count": 15,
   "id": "1b87def4-ce4f-4a4b-a58f-ba168608a552",
   "metadata": {},
   "outputs": [],
   "source": [
    "a = atoms[0]"
   ]
  },
  {
   "cell_type": "code",
   "execution_count": 17,
   "id": "a5432006-6270-48ef-893b-739deedcd231",
   "metadata": {},
   "outputs": [],
   "source": [
    "v = a.get_vector()"
   ]
  },
  {
   "cell_type": "code",
   "execution_count": 21,
   "id": "b64ffb75-b5e0-4105-b0d4-5abbf2bed7f1",
   "metadata": {},
   "outputs": [
    {
     "data": {
      "text/plain": [
       "1.3475739258740307"
      ]
     },
     "execution_count": 21,
     "metadata": {},
     "output_type": "execute_result"
    }
   ],
   "source": [
    "v.angle(atoms[1].get_vector())"
   ]
  },
  {
   "cell_type": "code",
   "execution_count": null,
   "id": "b212a363-1aa1-4217-82fb-a73ecbe639d0",
   "metadata": {},
   "outputs": [],
   "source": [
    "v."
   ]
  }
 ],
 "metadata": {
  "kernelspec": {
   "display_name": "Python 3 (ipykernel)",
   "language": "python",
   "name": "python3"
  },
  "language_info": {
   "codemirror_mode": {
    "name": "ipython",
    "version": 3
   },
   "file_extension": ".py",
   "mimetype": "text/x-python",
   "name": "python",
   "nbconvert_exporter": "python",
   "pygments_lexer": "ipython3",
   "version": "3.10.4"
  }
 },
 "nbformat": 4,
 "nbformat_minor": 5
}
